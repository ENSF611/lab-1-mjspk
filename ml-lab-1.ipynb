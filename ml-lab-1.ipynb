{
 "cells": [
  {
   "cell_type": "markdown",
   "metadata": {},
   "source": [
    "Author: YOUR NAME"
   ]
  },
  {
   "cell_type": "code",
   "execution_count": null,
   "metadata": {},
   "outputs": [],
   "source": [
    "# paste code from README.md to display versions and run cell\n",
    "import sys\n",
    "print(\"Python␣version:\", sys.version)\n",
    "import pandas as pd\n",
    "print(\"pandas␣version:\", pd.__version__)\n",
    "import matplotlib\n",
    "print(\"matplotlib␣version:\", matplotlib.__version__)\n",
    "import numpy as np\n",
    "print(\"NumPy␣version:\", np.__version__)\n",
    "import scipy as sp\n",
    "print(\"SciPy␣version:\", sp.__version__)\n",
    "import IPython\n",
    "print(\"IPython␣version:\", IPython.__version__)\n",
    "import sklearn\n",
    "print(\"scikit-learn␣version:\", sklearn.__version__)\n",
    "import yellowbrick\n",
    "print(\"yellowbrick␣version:\", yellowbrick.__version__)\n"
   ]
  },
  {
   "cell_type": "code",
   "execution_count": null,
   "metadata": {},
   "outputs": [],
   "source": [
    "# run this cell to list conda environments\n",
    "!python info --envs"
   ]
  }
 ],
 "metadata": {
  "kernelspec": {
   "display_name": "Python 3",
   "language": "python",
   "name": "python3"
  },
  "language_info": {
   "codemirror_mode": {
    "name": "ipython",
    "version": 3
   },
   "file_extension": ".py",
   "mimetype": "text/x-python",
   "name": "python",
   "nbconvert_exporter": "python",
   "pygments_lexer": "ipython3",
   "version": "3.8.8"
  }
 },
 "nbformat": 4,
 "nbformat_minor": 4
}
